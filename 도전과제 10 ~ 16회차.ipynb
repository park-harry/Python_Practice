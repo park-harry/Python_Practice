{
 "cells": [
  {
   "cell_type": "code",
   "execution_count": 1,
   "id": "e7988f4b",
   "metadata": {},
   "outputs": [
    {
     "data": {
      "text/plain": [
       "3"
      ]
     },
     "execution_count": 1,
     "metadata": {},
     "output_type": "execute_result"
    }
   ],
   "source": [
    "#매개변수 3개 (숫자 1, 숫자 2, 연산)\n",
    "#연산의 기본 매개변수는 덧셈 \n",
    "#0: 덧셈, 1: 뺄셈, 2: 곱셈, 3:나눗셈 \n",
    "\n",
    "def cal(a,b,c=0): #기본 매개변수는 덧셈이라는 조건 때문에 c=0이 된다. \n",
    "    if(c==0):\n",
    "        return a+b\n",
    "    elif(c==1):\n",
    "        return a-b\n",
    "    elif (c==2):\n",
    "        return a*b\n",
    "    elif(c==3):\n",
    "        return a/b\n",
    "    else: \n",
    "        return None \n",
    "\n",
    "cal(1,2)"
   ]
  },
  {
   "cell_type": "code",
   "execution_count": 2,
   "id": "115f1f8c",
   "metadata": {},
   "outputs": [
    {
     "data": {
      "text/plain": [
       "2"
      ]
     },
     "execution_count": 2,
     "metadata": {},
     "output_type": "execute_result"
    }
   ],
   "source": [
    "cal(1,2,2)"
   ]
  },
  {
   "cell_type": "code",
   "execution_count": 3,
   "id": "d2cc4baf",
   "metadata": {},
   "outputs": [
    {
     "name": "stdout",
     "output_type": "stream",
     "text": [
      "4x1=4\n",
      "4x2=8\n",
      "4x3=12\n",
      "4x4=16\n",
      "4x5=20\n",
      "4x6=24\n",
      "4x7=28\n",
      "4x8=32\n",
      "4x9=36\n",
      "5x1=5\n",
      "5x2=10\n",
      "5x3=15\n",
      "5x4=20\n",
      "5x5=25\n",
      "5x6=30\n",
      "5x7=35\n",
      "5x8=40\n",
      "5x9=45\n"
     ]
    }
   ],
   "source": [
    "# 가변 매개변수 활용 \n",
    "# 입력받은 단을 모두 출력하는 구구단 함수로 변경 \n",
    "def gugu(*a):\n",
    "    for j in range(len(a)):\n",
    "        for i in range(1,10):\n",
    "            print(\"{}x{}={}\".format(a[j],i,a[j]*i))\n",
    "gugu(4,5) "
   ]
  },
  {
   "cell_type": "code",
   "execution_count": null,
   "id": "cda7d6ff",
   "metadata": {},
   "outputs": [],
   "source": []
  }
 ],
 "metadata": {
  "kernelspec": {
   "display_name": "Python 3 (ipykernel)",
   "language": "python",
   "name": "python3"
  },
  "language_info": {
   "codemirror_mode": {
    "name": "ipython",
    "version": 3
   },
   "file_extension": ".py",
   "mimetype": "text/x-python",
   "name": "python",
   "nbconvert_exporter": "python",
   "pygments_lexer": "ipython3",
   "version": "3.11.5"
  }
 },
 "nbformat": 4,
 "nbformat_minor": 5
}
