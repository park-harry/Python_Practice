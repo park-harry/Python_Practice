{
 "cells": [
  {
   "cell_type": "code",
   "execution_count": 9,
   "id": "bed320a6",
   "metadata": {},
   "outputs": [
    {
     "name": "stdout",
     "output_type": "stream",
     "text": [
      "Mon Nov 20 13:39:37 2023\n",
      "Mon Nov 20 13:39:40 2023\n"
     ]
    }
   ],
   "source": [
    "# time module의 ctime 함수는 현재 시간을 출력 \n",
    "# time module의 sleep 함수는 해당 시간 동안 cpu 점유를 막음 \n",
    "# 객체 생성 후 3초 동안 sleep \n",
    "import time \n",
    "print(time.ctime())\n",
    "time.sleep(3)\n",
    "print(time.ctime())"
   ]
  },
  {
   "cell_type": "code",
   "execution_count": 11,
   "id": "8ec7a7be",
   "metadata": {},
   "outputs": [
    {
     "name": "stdout",
     "output_type": "stream",
     "text": [
      "Mon Nov 20 13:39:52 2023\n",
      "Mon Nov 20 13:39:55 2023\n"
     ]
    }
   ],
   "source": [
    "class Life():\n",
    "    def __init__(self): \n",
    "        print(time.ctime())\n",
    "        time.sleep(3)\n",
    "    def __del__(self):\n",
    "        print(time.ctime())\n",
    "\n",
    "life = Life()"
   ]
  },
  {
   "cell_type": "code",
   "execution_count": null,
   "id": "d3febc96",
   "metadata": {},
   "outputs": [],
   "source": []
  }
 ],
 "metadata": {
  "kernelspec": {
   "display_name": "Python 3 (ipykernel)",
   "language": "python",
   "name": "python3"
  },
  "language_info": {
   "codemirror_mode": {
    "name": "ipython",
    "version": 3
   },
   "file_extension": ".py",
   "mimetype": "text/x-python",
   "name": "python",
   "nbconvert_exporter": "python",
   "pygments_lexer": "ipython3",
   "version": "3.11.5"
  }
 },
 "nbformat": 4,
 "nbformat_minor": 5
}
