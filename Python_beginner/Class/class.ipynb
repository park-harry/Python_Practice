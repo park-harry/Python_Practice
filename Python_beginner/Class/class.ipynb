{
 "cells": [
  {
   "cell_type": "code",
   "execution_count": 9,
   "id": "bed320a6",
   "metadata": {},
   "outputs": [
    {
     "name": "stdout",
     "output_type": "stream",
     "text": [
      "Mon Nov 20 13:39:37 2023\n",
      "Mon Nov 20 13:39:40 2023\n"
     ]
    }
   ],
   "source": [
    "# time module의 ctime 함수는 현재 시간을 출력 \n",
    "# time module의 sleep 함수는 해당 시간 동안 cpu 점유를 막음 \n",
    "# 객체 생성 후 3초 동안 sleep \n",
    "import time \n",
    "print(time.ctime())\n",
    "time.sleep(3)\n",
    "print(time.ctime())"
   ]
  },
  {
   "cell_type": "code",
   "execution_count": 11,
   "id": "8ec7a7be",
   "metadata": {},
   "outputs": [
    {
     "name": "stdout",
     "output_type": "stream",
     "text": [
      "Mon Nov 20 13:39:52 2023\n",
      "Mon Nov 20 13:39:55 2023\n"
     ]
    }
   ],
   "source": [
    "class Life():\n",
    "    def __init__(self): \n",
    "        print(time.ctime())\n",
    "        time.sleep(3)\n",
    "    def __del__(self):\n",
    "        print(time.ctime())\n",
    "\n",
    "life = Life()"
   ]
  },
  {
   "cell_type": "code",
   "execution_count": 4,
   "id": "d3febc96",
   "metadata": {},
   "outputs": [
    {
     "name": "stdout",
     "output_type": "stream",
     "text": [
      "5\n"
     ]
    }
   ],
   "source": [
    "# instance 객체 a는 초기 값으로 10을 생성 \n",
    "# a 와 숫자 5의 더하기 연산 a + 5 의 결과는 10 - 5로 5가 되어야 함 \n",
    "\n",
    "class calc: \n",
    "    def __init__(self,i):\n",
    "         self.i = i \n",
    "    def __add__(self,other):\n",
    "        return self.i - other\n",
    "    \n",
    "a = calc(10)\n",
    "print(a+5)"
   ]
  },
  {
   "cell_type": "code",
   "execution_count": 12,
   "id": "41a0fa15",
   "metadata": {},
   "outputs": [
    {
     "name": "stdout",
     "output_type": "stream",
     "text": [
      "한국은/는 아시아에 있고, 수도는 서울이며, 인구수는 5000만 입니다.\n"
     ]
    }
   ],
   "source": [
    "# 부모 class (Asia)를 상속하여 Korea라는 자식 class를 만들고 \n",
    "# 국가 이름, 수도, 인구수를 출력하는 메소드 코딩 \n",
    "\n",
    "class Asia: \n",
    "    def __init__(self, name):\n",
    "        self.name = name\n",
    "    def show(self):\n",
    "        return \"해당 국가는 아시아에 있습니다.\"\n",
    "\n",
    "class Korea(Asia):\n",
    "    def __init__(self, name, capital, population):\n",
    "        Asia.__init__(self,name) \n",
    "        self.capital = capital \n",
    "        self.population =  population \n",
    "    def show_info(self):\n",
    "        return \"{0}은/는 아시아에 있고, 수도는 {1}이며, 인구수는 {2} 입니다.\".format(self.name, self.capital, self.population)\n",
    "\n",
    "country = Korea('한국','서울','5000만')\n",
    "print(country.show_info())\n",
    "    "
   ]
  },
  {
   "cell_type": "code",
   "execution_count": null,
   "id": "5dc89535",
   "metadata": {},
   "outputs": [],
   "source": []
  }
 ],
 "metadata": {
  "kernelspec": {
   "display_name": "Python 3 (ipykernel)",
   "language": "python",
   "name": "python3"
  },
  "language_info": {
   "codemirror_mode": {
    "name": "ipython",
    "version": 3
   },
   "file_extension": ".py",
   "mimetype": "text/x-python",
   "name": "python",
   "nbconvert_exporter": "python",
   "pygments_lexer": "ipython3",
   "version": "3.11.5"
  }
 },
 "nbformat": 4,
 "nbformat_minor": 5
}
