{
 "cells": [
  {
   "cell_type": "code",
   "execution_count": 3,
   "id": "30c8069e",
   "metadata": {},
   "outputs": [
    {
     "name": "stdout",
     "output_type": "stream",
     "text": [
      "float division by zero\n"
     ]
    }
   ],
   "source": [
    "a = 0.0\n",
    "\n",
    "try: \n",
    "    print(1.0/a) \n",
    "except ZeroDivisionError as msg: \n",
    "    print(msg)"
   ]
  },
  {
   "cell_type": "code",
   "execution_count": 6,
   "id": "ad8f92c8",
   "metadata": {},
   "outputs": [
    {
     "name": "stdout",
     "output_type": "stream",
     "text": [
      "정수를 입력 해주세요 : 5\n"
     ]
    },
    {
     "ename": "Exception",
     "evalue": "에러!",
     "output_type": "error",
     "traceback": [
      "\u001b[1;31m---------------------------------------------------------------------------\u001b[0m",
      "\u001b[1;31mException\u001b[0m                                 Traceback (most recent call last)",
      "Cell \u001b[1;32mIn[6], line 3\u001b[0m\n\u001b[0;32m      1\u001b[0m a \u001b[38;5;241m=\u001b[39m \u001b[38;5;28mint\u001b[39m(\u001b[38;5;28minput\u001b[39m (\u001b[38;5;124m\"\u001b[39m\u001b[38;5;124m정수를 입력 해주세요 : \u001b[39m\u001b[38;5;124m\"\u001b[39m))\n\u001b[0;32m      2\u001b[0m \u001b[38;5;28;01mif\u001b[39;00m (a \u001b[38;5;241m>\u001b[39m \u001b[38;5;241m0\u001b[39m):\n\u001b[1;32m----> 3\u001b[0m     \u001b[38;5;28;01mraise\u001b[39;00m \u001b[38;5;167;01mException\u001b[39;00m(\u001b[38;5;124m\"\u001b[39m\u001b[38;5;124m에러!\u001b[39m\u001b[38;5;124m\"\u001b[39m)\n\u001b[0;32m      4\u001b[0m \u001b[38;5;28;01melse\u001b[39;00m: \n\u001b[0;32m      5\u001b[0m     \u001b[38;5;28mprint\u001b[39m(\u001b[38;5;124m\"\u001b[39m\u001b[38;5;124m음수입니다.\u001b[39m\u001b[38;5;124m\"\u001b[39m)\n",
      "\u001b[1;31mException\u001b[0m: 에러!"
     ]
    }
   ],
   "source": [
    "a = int(input (\"정수를 입력 해주세요 : \"))\n",
    "if (a > 0):\n",
    "    raise Exception(\"에러!\")\n",
    "else: \n",
    "    print(\"음수입니다.\")"
   ]
  },
  {
   "cell_type": "code",
   "execution_count": 18,
   "id": "55e38bf9",
   "metadata": {},
   "outputs": [
    {
     "name": "stdout",
     "output_type": "stream",
     "text": [
      "2에서 9사이의 정수를 입력하시오: 15\n",
      "9 x 1 = 9\n",
      "9 x 2 = 18\n",
      "9 x 3 = 27\n",
      "9 x 4 = 36\n",
      "9 x 5 = 45\n",
      "9 x 6 = 54\n",
      "9 x 7 = 63\n",
      "9 x 8 = 72\n",
      "9 x 9 = 81\n",
      "9 x 1 = 9\n",
      "9 x 2 = 18\n",
      "9 x 3 = 27\n",
      "9 x 4 = 36\n",
      "9 x 5 = 45\n",
      "9 x 6 = 54\n",
      "9 x 7 = 63\n",
      "9 x 8 = 72\n",
      "9 x 9 = 81\n",
      "감사합니다.\n"
     ]
    }
   ],
   "source": [
    "#정수를 입력 받아 구구단을 출력하는 프로그램 작성 \n",
    "# 숫자가 아닌 것이 입력되었을 때 예외 처리 \n",
    "# 9 보다 클 때는 9단을 출력 \n",
    "# 1 이 입력되었을 때는 2단 출력 \n",
    "\n",
    "try: \n",
    "    num = int(input(\"2에서 9사이의 정수를 입력하시오: \"))\n",
    "except ValueError as msg:\n",
    "    print(msg)\n",
    "else:\n",
    "    if(num > 9): \n",
    "        num = 9\n",
    "        for i in range(1,10):\n",
    "            print('{} x {} = {}'.format(num,i,num*i))\n",
    "    if(num == 1):\n",
    "        num = 2\n",
    "        for i in range(1,10):\n",
    "            print('{} x {} = {}'.format(num,i,num*i))\n",
    "    else:\n",
    "        for i in range(1,10):\n",
    "            print('{} x {} = {}'.format(num,i,num*i))\n",
    "finally:\n",
    "    print(\"감사합니다.\")\n",
    "    "
   ]
  },
  {
   "cell_type": "code",
   "execution_count": null,
   "id": "fc79dd00",
   "metadata": {},
   "outputs": [],
   "source": []
  },
  {
   "cell_type": "code",
   "execution_count": null,
   "id": "2840e88a",
   "metadata": {},
   "outputs": [],
   "source": []
  }
 ],
 "metadata": {
  "kernelspec": {
   "display_name": "Python 3 (ipykernel)",
   "language": "python",
   "name": "python3"
  },
  "language_info": {
   "codemirror_mode": {
    "name": "ipython",
    "version": 3
   },
   "file_extension": ".py",
   "mimetype": "text/x-python",
   "name": "python",
   "nbconvert_exporter": "python",
   "pygments_lexer": "ipython3",
   "version": "3.11.5"
  }
 },
 "nbformat": 4,
 "nbformat_minor": 5
}
