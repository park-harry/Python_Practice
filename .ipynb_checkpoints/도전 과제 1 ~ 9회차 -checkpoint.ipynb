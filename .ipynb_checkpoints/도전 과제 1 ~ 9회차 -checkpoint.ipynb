{
 "cells": [
  {
   "cell_type": "code",
   "execution_count": null,
   "id": "19533c70",
   "metadata": {},
   "outputs": [
    {
     "name": "stdout",
     "output_type": "stream",
     "text": [
      "[1, 2, 3, 4, 5, 6, 7, 8, 9]\n"
     ]
    }
   ],
   "source": [
    "#tuple의 값 변경 \n",
    "#tuple은 값을 변경 할 수 없기 때문에 list로 전환해준다. \n",
    "T = (1,2,3,4,5,6,7,8,9)\n",
    "result = list(T)\n",
    "print(result)"
   ]
  },
  {
   "cell_type": "code",
   "execution_count": null,
   "id": "c5e958d0",
   "metadata": {},
   "outputs": [
    {
     "name": "stdout",
     "output_type": "stream",
     "text": [
      "('값 변경', 2, 3, 4, 5, 6, 7, 8, 9)\n"
     ]
    }
   ],
   "source": [
    "#리스트의 값을 변경한 후에 튜플로 다시 전환한다. \n",
    "result[0]=\"값 변경\"\n",
    "t = tuple(result)\n",
    "print(t)"
   ]
  },
  {
   "cell_type": "code",
   "execution_count": null,
   "id": "544b11bb",
   "metadata": {},
   "outputs": [
    {
     "name": "stdout",
     "output_type": "stream",
     "text": [
      "[9, 8, 7, 6, 5, 4, 3, 2, 1]\n"
     ]
    }
   ],
   "source": [
    "#list 역순으로 정렬 \n",
    "#방법 1 \n",
    "l = [2,5,1,3,6,4,8,7,9]\n",
    "l.sort(reverse=True)\n",
    "print(l)"
   ]
  },
  {
   "cell_type": "code",
   "execution_count": null,
   "id": "b12c6cde",
   "metadata": {},
   "outputs": [
    {
     "name": "stdout",
     "output_type": "stream",
     "text": [
      "[9, 8, 7, 6, 5, 4, 3, 2, 1]\n"
     ]
    }
   ],
   "source": [
    "#방법 2 \n",
    "l = [2,5,1,3,6,4,8,7,9]\n",
    "l.sort()\n",
    "l.reverse()\n",
    "print(l)"
   ]
  },
  {
   "cell_type": "code",
   "execution_count": null,
   "id": "8689dab3",
   "metadata": {},
   "outputs": [
    {
     "name": "stdout",
     "output_type": "stream",
     "text": [
      "{'a': 1, 'b': 5, 'c': 1, 'd': 7}\n"
     ]
    }
   ],
   "source": [
    "#두 사전을 하나의 사전으로 병합 \n",
    "dict1 = {'a': 1,'b': 2,'c': 3}\n",
    "dict2 = {'b': 5,'c': 1,'d': 7}\n",
    "dict1.update(dict2)\n",
    "print(dict1)"
   ]
  },
  {
   "cell_type": "code",
   "execution_count": null,
   "id": "04a789e8",
   "metadata": {},
   "outputs": [
    {
     "name": "stdout",
     "output_type": "stream",
     "text": [
      "18\n"
     ]
    }
   ],
   "source": [
    "#s에서 31을 뽑아라 \n",
    "#방법 1 - find() 함수 \n",
    "s = \"Today is December 31, 2020. Tomorrow is January 1, 2021\"\n",
    "print(s.find('31')) # 31의 인덱스 값을 찾는다. "
   ]
  },
  {
   "cell_type": "code",
   "execution_count": null,
   "id": "5fb4235f",
   "metadata": {},
   "outputs": [
    {
     "name": "stdout",
     "output_type": "stream",
     "text": [
      "31\n"
     ]
    }
   ],
   "source": [
    "#인덱스 값을 입력해 31을 뽑아낸다. \n",
    "print(s[18:20])"
   ]
  },
  {
   "cell_type": "code",
   "execution_count": null,
   "id": "96189704",
   "metadata": {},
   "outputs": [
    {
     "name": "stdout",
     "output_type": "stream",
     "text": [
      "['Today is December 31', ' 2020. Tomorrow is January 1', ' 2021']\n"
     ]
    }
   ],
   "source": [
    "#방법 2 - split() 함수 \n",
    "print(s.split(',')) #쉼표를 기준으로 나누면 리스트 3개로 나뉘어진다. "
   ]
  },
  {
   "cell_type": "code",
   "execution_count": null,
   "id": "b186518a",
   "metadata": {},
   "outputs": [
    {
     "name": "stdout",
     "output_type": "stream",
     "text": [
      "['Today', 'is', 'December', '31']\n"
     ]
    }
   ],
   "source": [
    "#임시의 변수에다가 저장, #공백을 기준으로 다시 split한다 \n",
    "temp = s.split(',')[0]\n",
    "print(temp.split(\" \"))"
   ]
  },
  {
   "cell_type": "code",
   "execution_count": null,
   "id": "3da631da",
   "metadata": {},
   "outputs": [
    {
     "name": "stdout",
     "output_type": "stream",
     "text": [
      "31\n"
     ]
    }
   ],
   "source": [
    "result = temp.split(\" \")[3]\n",
    "print(result)"
   ]
  },
  {
   "cell_type": "code",
   "execution_count": null,
   "id": "0b71913a",
   "metadata": {},
   "outputs": [
    {
     "name": "stdout",
     "output_type": "stream",
     "text": [
      "2 x 2.000000 = 4\n",
      "2 x 3 = 6\n",
      "2 x 4 = 8\n",
      "[2] x 5 =10\n",
      "2 x 9.0 =18.0\n"
     ]
    }
   ],
   "source": [
    "# 포맷팅 활용 \n",
    "print(\"{} x {:f} ={:2}\".format(2,2,4))\n",
    "print(\"{} x {} ={:2}\".format(2,3,6))\n",
    "print(\"{} x {} ={:2}\".format(2,4,8))\n",
    "print(\"{} x {} ={:2}\".format([2],5,10))\n",
    "print(\"{} x {:0.1f} ={:0.1f}\".format(2,9,18))\n"
   ]
  },
  {
   "cell_type": "code",
   "execution_count": 1,
   "id": "702940b4",
   "metadata": {},
   "outputs": [],
   "source": [
    "#조건문 활용  \n",
    "#키 180보다 크면 남자, 160보다 작으면 여자 \n",
    "#키 160이상 180이하일 경우, 몸무게가 키 -110한 값보다 크면 남자, 작으면 여자 \n",
    "a = int(input(\"키를 입력해주세요: \"))\n",
    "b = int(input(\"몸무게를 입력해주세요: \"))\n",
    "\n",
    "if (a > 180):\n",
    "    gender = \"남자\"\n",
    "elif (a < 160):\n",
    "    gender = \"여자\"\n",
    "elif (a >= 160 & a <= 180):\n",
    "    if(a-110 < b):\n",
    "        gender=\"남자\"\n",
    "    else:\n",
    "        gender=\"여자\"\n",
    "else: \n",
    "    gender =\"명확하지 않습니다.\"\n",
    "    \n",
    "print(gender)"
   ]
  },
  {
   "cell_type": "code",
   "execution_count": null,
   "id": "1bd0c534",
   "metadata": {},
   "outputs": [
    {
     "name": "stdout",
     "output_type": "stream",
     "text": [
      "a는 양수입니다. a는 0이 아닙니다.\n"
     ]
    }
   ],
   "source": [
    "# 조건문 한줄로 표현하기 \n",
    "a = 1 \n",
    "msg = \"a는 양수입니다.\" if (a>0) else \"a는 음수입니다.\"\n",
    "msg2= \"a는 0입니다.\" if (a==0) else \"a는 0이 아닙니다.\"\n",
    "print(msg,msg2)"
   ]
  },
  {
   "cell_type": "code",
   "execution_count": null,
   "id": "9084da7c",
   "metadata": {},
   "outputs": [
    {
     "name": "stdout",
     "output_type": "stream",
     "text": [
      "출력할 단 수를 입력하시오: 3\n",
      "3 x 1 = 3\n",
      "3 x 2 = 6\n",
      "3 x 3 = 9\n",
      "3 x 4 = 12\n",
      "3 x 5 = 15\n",
      "3 x 6 = 18\n",
      "3 x 7 = 21\n",
      "3 x 8 = 24\n",
      "3 x 9 = 27\n"
     ]
    }
   ],
   "source": [
    "#입력 받은 단 수에 맞는 구구단 출력 \n",
    "num = int(input(\"출력할 단 수를 입력하시오: \"))\n",
    "for i in range(1,10):\n",
    "    print(\"{} x {} = {}\".format(num,i,i*num))\n",
    "    i+=1"
   ]
  },
  {
   "cell_type": "code",
   "execution_count": null,
   "id": "404d4d35",
   "metadata": {},
   "outputs": [
    {
     "name": "stdout",
     "output_type": "stream",
     "text": [
      "[2, 4, 6, 8, 10, 12, 14, 16, 18, 3, 6, 9, 12, 15, 18, 21, 24, 27, 5, 10, 15, 20, 25, 30, 35, 40, 45, 6, 12, 18, 24, 30, 36, 42, 48, 54, 7, 14, 21, 28, 35, 42, 49, 56, 63, 8, 16, 24, 32, 40, 48, 56, 64, 72, 9, 18, 27, 36, 45, 54, 63, 72, 81]\n",
      "[2, 4, 6, 8, 10, 12, 14, 16, 18, 3, 6, 9, 12, 15, 18, 21, 24, 27, 5, 10, 15, 20, 25, 30, 35, 40, 45, 6, 12, 18, 24, 30, 36, 42, 48, 54, 7, 14, 21, 28, 35, 42, 49, 56, 63, 8, 16, 24, 32, 40, 48, 56, 64, 72, 9, 18, 27, 36, 45, 54, 63, 72, 81]\n"
     ]
    }
   ],
   "source": [
    "#리스트 내포를 활용하여 구구단을 2단부터 9단까지 출력하는 코드 작성 \n",
    "# 4단은 출력하지 않고 건너뛰기 \n",
    "l = []\n",
    "for i in range(2,10): #2단부터 9단 \n",
    "    for j in range(1,10): # x1부터 x9 까지 \n",
    "        if(i!=4):\n",
    "            l.append(i*j)\n",
    "print(l)\n",
    "\n",
    "#리스트 내포 \n",
    "print([i*j for i in range(2,10) for j in range(1,10) if i!=4])"
   ]
  },
  {
   "cell_type": "code",
   "execution_count": null,
   "id": "900701ea",
   "metadata": {},
   "outputs": [],
   "source": [
    "# 파일에 텍스트 형식 말고도 모든 객체를 집어넣을 수 있다. (바이너리 형식 사용)\n",
    "import pickle\n",
    "f = open('a.txt','wb')\n",
    "data = {1: \"python\", 2: 'Java'}\n",
    "pickle.dump(data, f)\n",
    "f.close( ) "
   ]
  },
  {
   "cell_type": "code",
   "execution_count": null,
   "id": "8e032716",
   "metadata": {},
   "outputs": [],
   "source": [
    "f = open('a.txt','rb')\n",
    "data_read = pickle.load(f)\n",
    "f.close()"
   ]
  },
  {
   "cell_type": "code",
   "execution_count": null,
   "id": "e2060812",
   "metadata": {},
   "outputs": [
    {
     "name": "stdout",
     "output_type": "stream",
     "text": [
      "{1: 'python', 2: 'Java'}\n"
     ]
    }
   ],
   "source": [
    "print(data_read)"
   ]
  },
  {
   "cell_type": "code",
   "execution_count": null,
   "id": "15c8fb6f",
   "metadata": {},
   "outputs": [
    {
     "name": "stdout",
     "output_type": "stream",
     "text": [
      "['도전 과제 .ipynb', '.DS_Store', 'Python', '.localized', 'Do it Java', '자소서', 'sunghwanpark', 'a.txt', 'gugudan.txt', 'Transcript _ Resume', 'Personal Information', '.ipynb_checkpoints']\n",
      "['.eclipse', '.config', 'Music', '.condarc', '.DS_Store', 'eclipse', '.CFUserTextEncoding', '.xonshrc', '.zshrc', 'Pictures', '.zprofile', '.zsh_history', '.p2', '.ipython', 'Desktop', 'Library', 'eclipse-workspace', '.matplotlib', '.oracle_jre_usage', 'env', '.android', '.pgadmin', '.wdm', 'Public', '.idlerc', '.tcshrc', '.vscode-R', '.anaconda', 'Election_Analysis', 'Movies', 'Applications', '.dbshell', 'opt', '.Trash', '.ipynb_checkpoints', '.jupyter', 'Documents', '.vscode', '.bash_profile', 'data', 'anaconda3', 'Downloads', '.continuum', '.cache', '.gitconfig', '.mongorc.js', '.zsh_sessions', '.conda']\n"
     ]
    }
   ],
   "source": [
    "import os\n",
    "print(os.listdir('.')) #현재 내 directory \n",
    "print(os.listdir('../')) #부모 directory \n",
    "os.rename(\"a.txt\",'test.txt')"
   ]
  },
  {
   "cell_type": "code",
   "execution_count": null,
   "id": "e4d6d1fd",
   "metadata": {},
   "outputs": [
    {
     "name": "stdout",
     "output_type": "stream",
     "text": [
      "False\n",
      "/Users/harrypark/Desktop/a.txt\n"
     ]
    }
   ],
   "source": [
    "print(os.path.exists(\"a.txt\"))\n",
    "print(os.path.abspath(\"a.txt\")) #파일의 유무와 상관없이 절대경로를 알려줌 "
   ]
  },
  {
   "cell_type": "code",
   "execution_count": null,
   "id": "c9acbcc7",
   "metadata": {},
   "outputs": [],
   "source": [
    "f = open (os.path.abspath('a.txt'),'w')\n",
    "f.write('1234')\n",
    "f.close()"
   ]
  },
  {
   "cell_type": "code",
   "execution_count": null,
   "id": "face55e4",
   "metadata": {},
   "outputs": [
    {
     "name": "stdout",
     "output_type": "stream",
     "text": [
      "/Users/harrypark/Desktop\n"
     ]
    }
   ],
   "source": [
    "# 파일 경로 변경 -> directory 를 바꾸면 새로운 파일을 생성할 때마다 바꾼 경로로 파일이 저장된다. \n",
    "os.chdir('/Users/park_harry/Desktop')\n",
    "print(os.getcwd())"
   ]
  },
  {
   "cell_type": "code",
   "execution_count": null,
   "id": "367c8e8a",
   "metadata": {},
   "outputs": [],
   "source": [
    "#표준 출력을 파일로 변경하여 구구단을 파일에 저장하기 \n",
    "#반복문을 사용해 2단부터 9단까지 출력 \n",
    "import sys\n",
    "file = open('gugudan.txt','w')\n",
    "sys.stdout = file\n",
    "data =[]\n",
    "for i in range(2,10):\n",
    "    for j in range(1,10):\n",
    "        print(\"{} x {} = {}\".format(i,j,i*j))\n",
    "#sys.stdout 함수 때문에 출력되지 않고 gugudan.txt 파일에 저장됐다. "
   ]
  },
  {
   "cell_type": "code",
   "execution_count": null,
   "id": "2ff1958b",
   "metadata": {},
   "outputs": [
    {
     "ename": "FileExistsError",
     "evalue": "[Errno 17] File exists: 'Python'",
     "output_type": "error",
     "traceback": [
      "\u001b[0;31m---------------------------------------------------------------------------\u001b[0m",
      "\u001b[0;31mFileExistsError\u001b[0m                           Traceback (most recent call last)",
      "Cell \u001b[0;32mIn[24], line 3\u001b[0m\n\u001b[1;32m      1\u001b[0m \u001b[38;5;66;03m#바탕화면에 폴더 생성 후, 파일 생성 \u001b[39;00m\n\u001b[1;32m      2\u001b[0m \u001b[38;5;28;01mimport\u001b[39;00m \u001b[38;5;21;01mos\u001b[39;00m \n\u001b[0;32m----> 3\u001b[0m os\u001b[38;5;241m.\u001b[39mmkdir(\u001b[38;5;124m\"\u001b[39m\u001b[38;5;124mPython\u001b[39m\u001b[38;5;124m\"\u001b[39m)\n",
      "\u001b[0;31mFileExistsError\u001b[0m: [Errno 17] File exists: 'Python'"
     ]
    }
   ],
   "source": [
    "#바탕화면에 폴더 생성 후, 파일 생성 \n",
    "import os \n",
    "os.mkdir(\"Python\")"
   ]
  },
  {
   "cell_type": "code",
   "execution_count": null,
   "id": "8bab760c",
   "metadata": {},
   "outputs": [],
   "source": [
    "os.chdir('/Users/park_harry/Desktop/Python')\n",
    "f = open('test.txt','w')\n",
    "f.write(\"\"\"안녕하세요 학습자님!\\n이번 회차에서는\\n파이썬의 입출력에 대해서\\n학습했습니다.\"\"\")\n",
    "f.close()"
   ]
  },
  {
   "cell_type": "code",
   "execution_count": null,
   "id": "e95f0c70",
   "metadata": {},
   "outputs": [],
   "source": [
    "os.chdir('/Users/harrypark/Desktop')"
   ]
  }
 ],
 "metadata": {
  "kernelspec": {
   "display_name": "Python 3 (ipykernel)",
   "language": "python",
   "name": "python3"
  },
  "language_info": {
   "codemirror_mode": {
    "name": "ipython",
    "version": 3
   },
   "file_extension": ".py",
   "mimetype": "text/x-python",
   "name": "python",
   "nbconvert_exporter": "python",
   "pygments_lexer": "ipython3",
   "version": "3.11.5"
  }
 },
 "nbformat": 4,
 "nbformat_minor": 5
}
